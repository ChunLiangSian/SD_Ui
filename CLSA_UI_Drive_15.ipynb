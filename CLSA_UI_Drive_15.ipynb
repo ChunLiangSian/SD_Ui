{
  "cells": [
    {
      "cell_type": "markdown",
      "metadata": {
        "id": "view-in-github",
        "colab_type": "text"
      },
      "source": [
        "<a href=\"https://colab.research.google.com/github/ChunLiangSian/SD_Ui/blob/main/CLSA_UI_Drive_15.ipynb\" target=\"_parent\"><img src=\"https://colab.research.google.com/assets/colab-badge.svg\" alt=\"Open In Colab\"/></a>"
      ]
    },
    {
      "cell_type": "markdown",
      "source": [
        "## 挂载Google云盘部署"
      ],
      "metadata": {
        "id": "Iwv8ruS0B42T"
      }
    },
    {
      "cell_type": "markdown",
      "source": [
        "# 使用说明：\n",
        "\n",
        "\n",
        "*   代码基于https://github.com/camenduru/ 中web UI内容进行了修改调整\n",
        "*   由于官方对免费用户限制，修改代码绕开运行警告\n",
        "*   Pro用户同样可用\n",
        "*   云盘免费空间为15G,因此下方Controlnet模型只下载了部分\n",
        "*   若已扩容或有需要，可以打开下方代码中绿色注释部分\n",
        "*   若一些插件或者模型不需要，可以注释或者删除\n",
        "*   默认下载了v1-5-pruned-emaonly.ckpt，不需要可以删除\n",
        "\n",
        "\n",
        "\n",
        "\n",
        "\n"
      ],
      "metadata": {
        "id": "SwOS9SsyHQmj"
      }
    },
    {
      "cell_type": "markdown",
      "source": [
        "## 使用方法：\n",
        "\n",
        "\n",
        "首次运行步骤：\n",
        "\n",
        "\n",
        "1.   新建网页，登录谷歌云盘(https://drive.google.com/)\n",
        "点击左上角新建—更多-关联更多应用-搜索Colaboratory，点击进入安装\n",
        "2.   在该文档上方点击【复制到云端硬盘】，或者选择上方【文件】-【在云端硬盘中保存一份副本】，页面会自动跳转至副本窗口，重命名后关闭本页面\n",
        "3.   在副本页面中，选择上方【代码执行程序】-【更改运行时类型】，免费用户GPU选择【T4】，Pro用户可选【A100】或【V100】，点击保存\n",
        "4.   点击右上角【连接】按钮，等待成功连接后会出现绿色对勾\n",
        "5.   点击下方【安装环境并运行】运行按钮，等待10分钟左右，出现网址链接，任意点开一个即可进入\n",
        "6.   之后就和本地部署一样了\n",
        "\n",
        "后续使用只需云盘打开保存的副本colab，执行3、4、5即可\n",
        "\n",
        "若页面连接失败或运行被终端，只需运行2、开始运行即可。\n",
        "\n",
        "\n",
        "\n"
      ],
      "metadata": {
        "id": "MSrZcpsFP9bH"
      }
    },
    {
      "cell_type": "markdown",
      "source": [
        "## 部署涵盖的插件列表：\n",
        "1.   deforum\n",
        "2.   controlnet\n",
        "3.   openpose-editor\n",
        "4.   depth-lib\n",
        "5.   huggingface\n",
        "6.   additional-networks\n",
        "7.   posex\n",
        "8.   3d-open-pose-editor\n",
        "9.   webui-tunnels\n",
        "10.   rembg\n",
        "11.   two-shot\n",
        "12.   aspect-ratio-helpe\n",
        "13.   adetailer\n",
        "14.   dynamic-thresholding\n",
        "15.   dynamic-prompts\n",
        "16.   wildcards\n",
        "17.   segment-anything\n",
        "18.   ch-ZN汉化\n",
        "19.   multidiffusion-upscaler\n",
        "\n"
      ],
      "metadata": {
        "id": "j0uH72WmQIJX"
      }
    },
    {
      "cell_type": "markdown",
      "source": [
        "# 安装与运行"
      ],
      "metadata": {
        "id": "d-js85SteYcF"
      }
    },
    {
      "cell_type": "code",
      "source": [
        "#@title 安装并更新运行\n",
        "a=\"stable\"\n",
        "b=\"Stable\"\n",
        "c=\"sd\"\n",
        "\n",
        "%cd /content\n",
        "from google.colab import drive\n",
        "drive.mount('/content/drive')\n",
        "\n",
        "%env PYTHONDONTWRITEBYTECODE=1\n",
        "\n",
        "!apt-get -y install -qq aria2 libcairo2-dev pkg-config python3-dev\n",
        "\n",
        "!git clone -b v2.2 https://github.com/camenduru/{a}-diffusion-webui /content/drive/MyDrive/ui-colab/ui\n",
        "!git -C /content/drive/MyDrive/ui-colab/ui checkout -f v2.2\n",
        "!git -C /content/drive/MyDrive/ui-colab/ui reset --hard\n",
        "!git -C /content/drive/MyDrive/ui-colab/ui pull origin v2.2\n",
        "!git clone https://huggingface.co/embed/negative /content/drive/MyDrive/ui-colab/ui/embeddings/negative\n",
        "!git clone https://huggingface.co/embed/lora /content/drive/MyDrive/ui-colab/ui/models/Lora/positive\n",
        "!aria2c --console-log-level=error -c -x 16 -s 16 -k 1M https://huggingface.co/embed/upscale/resolve/main/4x-UltraSharp.pth -d /content/drive/MyDrive/ui-colab/ui/models/ESRGAN -o 4x-UltraSharp.pth\n",
        "!wget https://raw.githubusercontent.com/camenduru/{a}-diffusion-webui-scripts/main/run_n_times.py -O /content/drive/MyDrive/ui-colab/ui/scripts/run_n_times.py\n",
        "!rm -rf /content/drive/MyDrive/ui-colab/ui/extensions/deforum-for-automatic1111-webui\n",
        "!git clone https://github.com/deforum-art/deforum-for-automatic1111-webui /content/drive/MyDrive/ui-colab/ui/extensions/deforum-for-automatic1111-webui\n",
        "!rm -rf /content/drive/MyDrive/ui-colab/ui/extensions/{a}-diffusion-webui-huggingface\n",
        "!git clone https://github.com/camenduru/{a}-diffusion-webui-huggingface /content/drive/MyDrive/ui-colab/ui/extensions/{a}-diffusion-webui-huggingface\n",
        "!rm -rf /content/drive/MyDrive/ui-colab/ui/extensions/{c}-webui-additional-networks\n",
        "!git clone https://github.com/kohya-ss/{c}-webui-additional-networks /content/drive/MyDrive/ui-colab/ui/extensions/{c}-webui-additional-networks\n",
        "!rm -rf /content/drive/MyDrive/ui-colab/ui/extensions/{c}-webui-controlnet\n",
        "!git clone https://github.com/Mikubill/{c}-webui-controlnet /content/drive/MyDrive/ui-colab/ui/extensions/{c}-webui-controlnet\n",
        "!rm -rf /content/drive/MyDrive/ui-colab/ui/extensions/openpose-editor\n",
        "!git clone https://github.com/fkunn1326/openpose-editor /content/drive/MyDrive/ui-colab/ui/extensions/openpose-editor\n",
        "!rm -rf /content/drive/MyDrive/ui-colab/ui/extensions/{c}-webui-depth-lib\n",
        "!git clone https://github.com/jexom/{c}-webui-depth-lib /content/drive/MyDrive/ui-colab/ui/extensions/{c}-webui-depth-lib\n",
        "!rm -rf /content/drive/MyDrive/ui-colab/ui/extensions/posex\n",
        "!git clone https://github.com/hnmr293/posex /content/drive/MyDrive/ui-colab/ui/extensions/posex\n",
        "!rm -rf /content/drive/MyDrive/ui-colab/ui/extensions/{c}-webui-3d-open-pose-editor\n",
        "!git clone https://github.com/nonnonstop/{c}-webui-3d-open-pose-editor /content/drive/MyDrive/ui-colab/ui/extensions/{c}-webui-3d-open-pose-editor\n",
        "!rm -rf /content/drive/MyDrive/ui-colab/ui/extensions/{c}-webui-tunnels\n",
        "!git clone https://github.com/camenduru/{c}-webui-tunnels /content/drive/MyDrive/ui-colab/ui/extensions/{c}-webui-tunnels\n",
        "!rm -rf /content/drive/MyDrive/ui-colab/ui/extensions/batchlinks-webui\n",
        "!git clone https://github.com/etherealxx/batchlinks-webui /content/drive/MyDrive/ui-colab/ui/extensions/batchlinks-webui\n",
        "!rm -rf /content/drive/MyDrive/ui-colab/ui/extensions/{a}-diffusion-webui-rembg\n",
        "!git clone https://github.com/AUTOMATIC1111/{a}-diffusion-webui-rembg /content/drive/MyDrive/ui-colab/ui/extensions/{a}-diffusion-webui-rembg\n",
        "!rm -rf /content/drive/MyDrive/ui-colab/ui/extensions/{a}-diffusion-webui-two-shot\n",
        "!git clone https://github.com/ashen-sensored/{a}-diffusion-webui-two-shot /content/drive/MyDrive/ui-colab/ui/extensions/{a}-diffusion-webui-two-shot\n",
        "!rm -rf /content/drive/MyDrive/ui-colab/ui/extensions/{c}-webui-aspect-ratio-helper\n",
        "!git clone https://github.com/thomasasfk/{c}-webui-aspect-ratio-helper /content/drive/MyDrive/ui-colab/ui/extensions/{c}-webui-aspect-ratio-helper\n",
        "!rm -rf /content/drive/MyDrive/ui-colab/ui/extensions/{c}-webui-prompt-all-in-one\n",
        "!git clone https://github.com/Physton/{c}-webui-prompt-all-in-one.git /content/drive/MyDrive/ui-colab/ui/extensions/{c}-webui-prompt-all-in-one\n",
        "!rm -rf /content/drive/MyDrive/ui-colab/ui/extensions/adetailer\n",
        "!git clone https://github.com/Bing-su/adetailer /content/drive/MyDrive/ui-colab/ui/extensions/adetailer\n",
        "!rm -rf /content/drive/MyDrive/ui-colab/ui/extensions/{c}-dynamic-thresholding\n",
        "!git clone https://github.com/mcmonkeyprojects/{c}-dynamic-thresholding /content/drive/MyDrive/ui-colab/ui/extensions/{c}-dynamic-thresholding\n",
        "!rm -rf /content/drive/MyDrive/ui-colab/ui/extensions/{c}-dynamic-prompts\n",
        "!git clone https://github.com/adieyal/{c}-dynamic-prompts /content/drive/MyDrive/ui-colab/ui/extensions/{c}-dynamic-prompts\n",
        "!rm -rf /content/drive/MyDrive/ui-colab/ui/extensions/{a}-diffusion-webui-wildcards\n",
        "!git clone https://github.com/AUTOMATIC1111/{a}-diffusion-webui-wildcards /content/drive/MyDrive/ui-colab/ui/extensions/{a}-diffusion-webui-wildcards\n",
        "!rm -rf /content/drive/MyDrive/ui-colab/ui/extensions/{a}-diffusion-webui-localization-zh_CN\n",
        "!git clone https://gitcode.net/ranting8323/{a}-diffusion-webui-localization-zh_CN.git /content/drive/MyDrive/ui-colab/ui/extensions/{a}-diffusion-webui-localization-zh_CN\n",
        "!rm -rf /content/drive/MyDrive/ui-colab/ui/extensions/multidiffusion-upscaler-for-automatic1111\n",
        "!git clone https://github.com/pkuliyi2015/multidiffusion-upscaler-for-automatic1111 /content/drive/MyDrive/ui-colab/ui/extensions/multidiffusion-upscaler-for-automatic1111\n",
        "\n",
        "\n",
        "%cd /content/drive/MyDrive/ui-colab/ui\n",
        "\n",
        "!git -C /content/drive/MyDrive/ui-colab/ui/extensions/deforum-for-automatic1111-webui reset --hard\n",
        "!git -C /content/drive/MyDrive/ui-colab/ui/extensions/deforum-for-automatic1111-webui pull\n",
        "\n",
        "!git -C /content/drive/MyDrive/ui-colab/ui/extensions/{a}-diffusion-webui-huggingface reset --hard\n",
        "!git -C /content/drive/MyDrive/ui-colab/ui/extensions/{a}-diffusion-webui-huggingface pull\n",
        "\n",
        "!git -C /content/drive/MyDrive/ui-colab/ui/extensions/{c}-webui-additional-networks reset --hard\n",
        "!git -C /content/drive/MyDrive/ui-colab/ui/extensions/{c}-webui-additional-networks pull\n",
        "!git -C /content/drive/MyDrive/ui-colab/ui/extensions/{c}-webui-controlnet reset --hard\n",
        "!git -C /content/drive/MyDrive/ui-colab/ui/extensions/{c}-webui-controlnet pull\n",
        "!git -C /content/drive/MyDrive/ui-colab/ui/extensions/openpose-editor reset --hard\n",
        "!git -C /content/drive/MyDrive/ui-colab/ui/extensions/openpose-editor pull\n",
        "!git -C /content/drive/MyDrive/ui-colab/ui/extensions/{c}-webui-depth-lib reset --hard\n",
        "!git -C /content/drive/MyDrive/ui-colab/ui/extensions/{c}-webui-depth-lib pull\n",
        "!git -C /content/drive/MyDrive/ui-colab/ui/extensions/posex reset --hard\n",
        "!git -C /content/drive/MyDrive/ui-colab/ui/extensions/posex pull\n",
        "!git -C /content/drive/MyDrive/ui-colab/ui/extensions/{c}-webui-tunnels reset --hard\n",
        "!git -C /content/drive/MyDrive/ui-colab/ui/extensions/{c}-webui-tunnels pull\n",
        "!git -C /content/drive/MyDrive/ui-colab/ui/extensions/batchlinks-webui reset --hard\n",
        "!git -C /content/drive/MyDrive/ui-colab/ui/extensions/batchlinks-webui pull\n",
        "\n",
        "!git -C /content/drive/MyDrive/ui-colab/ui/extensions/{a}-diffusion-webui-rembg reset --hard\n",
        "!git -C /content/drive/MyDrive/ui-colab/ui/extensions/{a}-diffusion-webui-rembg pull\n",
        "!git -C /content/drive/MyDrive/ui-colab/ui/extensions/{a}-diffusion-webui-two-shot reset --hard\n",
        "!git -C /content/drive/MyDrive/ui-colab/ui/extensions/{a}-diffusion-webui-two-shot pull\n",
        "!git -C /content/drive/MyDrive/ui-colab/ui/extensions/{c}-webui-3d-open-pose-editor reset --hard\n",
        "!git -C /content/drive/MyDrive/ui-colab/ui/extensions/{c}-webui-3d-open-pose-editor pull\n",
        "!git -C /content/drive/MyDrive/ui-colab/ui/extensions/{c}-webui-aspect-ratio-helper reset --hard\n",
        "!git -C /content/drive/MyDrive/ui-colab/ui/extensions/{c}-webui-aspect-ratio-helper pull\n",
        "!git -C /content/drive/MyDrive/ui-colab/ui/extensions/{c}-webui-prompt-all-in-one reset --hard\n",
        "!git -C /content/drive/MyDrive/ui-colab/ui/extensions/{c}-webui-prompt-all-in-one pull\n",
        "!git -C /content/drive/MyDrive/ui-colab/ui/extensions/adetailer reset --hard\n",
        "!git -C /content/drive/MyDrive/ui-colab/ui/extensions/adetailer pull\n",
        "!git -C /content/drive/MyDrive/ui-colab/ui/extensions/{c}-dynamic-thresholding reset --hard\n",
        "!git -C /content/drive/MyDrive/ui-colab/ui/extensions/{c}-dynamic-thresholding pull\n",
        "!git -C /content/drive/MyDrive/ui-colab/ui/extensions/{c}-dynamic-prompts reset --hard\n",
        "!git -C /content/drive/MyDrive/ui-colab/ui/extensions/{c}-dynamic-prompts pull\n",
        "!git -C /content/drive/MyDrive/ui-colab/ui/extensions/{a}-diffusion-webui-wildcards reset --hard\n",
        "!git -C /content/drive/MyDrive/ui-colab/ui/extensions/{a}-diffusion-webui-wildcards pull\n",
        "!git -C /content/drive/MyDrive/ui-colab/ui/extensions/{a}-diffusion-webui-localization-zh_CN reset --hard\n",
        "!git -C /content/drive/MyDrive/ui-colab/ui/extensions/{a}-diffusion-webui-localization-zh_CN pull\n",
        "!git -C /content/drive/MyDrive/ui-colab/ui/extensions/multidiffusion-upscaler-for-automatic1111 reset --hard\n",
        "!git -C /content/drive/MyDrive/ui-colab/ui/extensions/multidiffusion-upscaler-for-automatic1111 pull\n",
        "\n",
        "\n",
        "!aria2c --console-log-level=error -c -x 16 -s 16 -k 1M https://huggingface.co/ckpt/ControlNet-v1-1/resolve/main/control_v11e_{c}15_ip2p_fp16.safetensors -d /content/drive/MyDrive/ui-colab/ui/extensions/{c}-webui-controlnet/models -o control_v11e_{c}15_ip2p_fp16.safetensors\n",
        "# !aria2c --console-log-level=error -c -x 16 -s 16 -k 1M https://huggingface.co/ckpt/ControlNet-v1-1/resolve/main/control_v11e_{c}15_shuffle_fp16.safetensors -d /content/drive/MyDrive/ui-colab/ui/extensions/{c}-webui-controlnet/models -o control_v11e_{c}15_shuffle_fp16.safetensors\n",
        "# !aria2c --console-log-level=error -c -x 16 -s 16 -k 1M https://huggingface.co/ckpt/ControlNet-v1-1/resolve/main/control_v11p_{c}15_canny_fp16.safetensors -d /content/drive/MyDrive/ui-colab/ui/extensions/{c}-webui-controlnet/models -o control_v11p_{c}15_canny_fp16.safetensors\n",
        "# !aria2c --console-log-level=error -c -x 16 -s 16 -k 1M https://huggingface.co/ckpt/ControlNet-v1-1/resolve/main/control_v11f1p_{c}15_depth_fp16.safetensors -d /content/drive/MyDrive/ui-colab/ui/extensions/{c}-webui-controlnet/models -o control_v11f1p_{c}15_depth_fp16.safetensors\n",
        "# !aria2c --console-log-level=error -c -x 16 -s 16 -k 1M https://huggingface.co/ckpt/ControlNet-v1-1/resolve/main/control_v11p_{c}15_inpaint_fp16.safetensors -d /content/drive/MyDrive/ui-colab/ui/extensions/{c}-webui-controlnet/models -o control_v11p_{c}15_inpaint_fp16.safetensors\n",
        "!aria2c --console-log-level=error -c -x 16 -s 16 -k 1M https://huggingface.co/ckpt/ControlNet-v1-1/resolve/main/control_v11p_{c}15_lineart_fp16.safetensors -d /content/drive/MyDrive/ui-colab/ui/extensions/{c}-webui-controlnet/models -o control_v11p_{c}15_lineart_fp16.safetensors\n",
        "# !aria2c --console-log-level=error -c -x 16 -s 16 -k 1M https://huggingface.co/ckpt/ControlNet-v1-1/resolve/main/control_v11p_{c}15_ml{c}_fp16.safetensors -d /content/drive/MyDrive/ui-colab/ui/extensions/{c}-webui-controlnet/models -o control_v11p_{c}15_ml{c}_fp16.safetensors\n",
        "# !aria2c --console-log-level=error -c -x 16 -s 16 -k 1M https://huggingface.co/ckpt/ControlNet-v1-1/resolve/main/control_v11p_{c}15_normalbae_fp16.safetensors -d /content/drive/MyDrive/ui-colab/ui/extensions/{c}-webui-controlnet/models -o control_v11p_{c}15_normalbae_fp16.safetensors\n",
        "!aria2c --console-log-level=error -c -x 16 -s 16 -k 1M https://huggingface.co/ckpt/ControlNet-v1-1/resolve/main/control_v11p_{c}15_openpose_fp16.safetensors -d /content/drive/MyDrive/ui-colab/ui/extensions/{c}-webui-controlnet/models -o control_v11p_{c}15_openpose_fp16.safetensors\n",
        "# !aria2c --console-log-level=error -c -x 16 -s 16 -k 1M https://huggingface.co/ckpt/ControlNet-v1-1/resolve/main/control_v11p_{c}15_scribble_fp16.safetensors -d /content/drive/MyDrive/ui-colab/ui/extensions/{c}-webui-controlnet/models -o control_v11p_{c}15_scribble_fp16.safetensors\n",
        "# !aria2c --console-log-level=error -c -x 16 -s 16 -k 1M https://huggingface.co/ckpt/ControlNet-v1-1/resolve/main/control_v11p_{c}15_seg_fp16.safetensors -d /content/drive/MyDrive/ui-colab/ui/extensions/{c}-webui-controlnet/models -o control_v11p_{c}15_seg_fp16.safetensors\n",
        "# !aria2c --console-log-level=error -c -x 16 -s 16 -k 1M https://huggingface.co/ckpt/ControlNet-v1-1/resolve/main/control_v11p_{c}15_softedge_fp16.safetensors -d /content/drive/MyDrive/ui-colab/ui/extensions/{c}-webui-controlnet/models -o control_v11p_{c}15_softedge_fp16.safetensors\n",
        "# !aria2c --console-log-level=error -c -x 16 -s 16 -k 1M https://huggingface.co/ckpt/ControlNet-v1-1/resolve/main/control_v11p_{c}15s2_lineart_anime_fp16.safetensors -d /content/drive/MyDrive/ui-colab/ui/extensions/{c}-webui-controlnet/models -o control_v11p_{c}15s2_lineart_anime_fp16.safetensors\n",
        "# !aria2c --console-log-level=error -c -x 16 -s 16 -k 1M https://huggingface.co/ckpt/ControlNet-v1-1/resolve/main/control_v11f1e_{c}15_tile_fp16.safetensors -d /content/drive/MyDrive/ui-colab/ui/extensions/{c}-webui-controlnet/models -o control_v11f1e_{c}15_tile_fp16.safetensors\n",
        "!aria2c --console-log-level=error -c -x 16 -s 16 -k 1M https://huggingface.co/ckpt/ControlNet-v1-1/raw/main/control_v11e_{c}15_ip2p_fp16.yaml -d /content/drive/MyDrive/ui-colab/ui/extensions/{c}-webui-controlnet/models -o control_v11e_{c}15_ip2p_fp16.yaml\n",
        "!aria2c --console-log-level=error -c -x 16 -s 16 -k 1M https://huggingface.co/ckpt/ControlNet-v1-1/raw/main/control_v11e_{c}15_shuffle_fp16.yaml -d /content/drive/MyDrive/ui-colab/ui/extensions/{c}-webui-controlnet/models -o control_v11e_{c}15_shuffle_fp16.yaml\n",
        "!aria2c --console-log-level=error -c -x 16 -s 16 -k 1M https://huggingface.co/ckpt/ControlNet-v1-1/raw/main/control_v11p_{c}15_canny_fp16.yaml -d /content/drive/MyDrive/ui-colab/ui/extensions/{c}-webui-controlnet/models -o control_v11p_{c}15_canny_fp16.yaml\n",
        "!aria2c --console-log-level=error -c -x 16 -s 16 -k 1M https://huggingface.co/ckpt/ControlNet-v1-1/raw/main/control_v11f1p_{c}15_depth_fp16.yaml -d /content/drive/MyDrive/ui-colab/ui/extensions/{c}-webui-controlnet/models -o control_v11f1p_{c}15_depth_fp16.yaml\n",
        "!aria2c --console-log-level=error -c -x 16 -s 16 -k 1M https://huggingface.co/ckpt/ControlNet-v1-1/raw/main/control_v11p_{c}15_inpaint_fp16.yaml -d /content/drive/MyDrive/ui-colab/ui/extensions/{c}-webui-controlnet/models -o control_v11p_{c}15_inpaint_fp16.yaml\n",
        "!aria2c --console-log-level=error -c -x 16 -s 16 -k 1M https://huggingface.co/ckpt/ControlNet-v1-1/raw/main/control_v11p_{c}15_lineart_fp16.yaml -d /content/drive/MyDrive/ui-colab/ui/extensions/{c}-webui-controlnet/models -o control_v11p_{c}15_lineart_fp16.yaml\n",
        "!aria2c --console-log-level=error -c -x 16 -s 16 -k 1M https://huggingface.co/ckpt/ControlNet-v1-1/raw/main/control_v11p_{c}15_ml{c}_fp16.yaml -d /content/drive/MyDrive/ui-colab/ui/extensions/{c}-webui-controlnet/models -o control_v11p_{c}15_ml{c}_fp16.yaml\n",
        "!aria2c --console-log-level=error -c -x 16 -s 16 -k 1M https://huggingface.co/ckpt/ControlNet-v1-1/raw/main/control_v11p_{c}15_normalbae_fp16.yaml -d /content/drive/MyDrive/ui-colab/ui/extensions/{c}-webui-controlnet/models -o control_v11p_{c}15_normalbae_fp16.yaml\n",
        "!aria2c --console-log-level=error -c -x 16 -s 16 -k 1M https://huggingface.co/ckpt/ControlNet-v1-1/raw/main/control_v11p_{c}15_openpose_fp16.yaml -d /content/drive/MyDrive/ui-colab/ui/extensions/{c}-webui-controlnet/models -o control_v11p_{c}15_openpose_fp16.yaml\n",
        "!aria2c --console-log-level=error -c -x 16 -s 16 -k 1M https://huggingface.co/ckpt/ControlNet-v1-1/raw/main/control_v11p_{c}15_scribble_fp16.yaml -d /content/drive/MyDrive/ui-colab/ui/extensions/{c}-webui-controlnet/models -o control_v11p_{c}15_scribble_fp16.yaml\n",
        "!aria2c --console-log-level=error -c -x 16 -s 16 -k 1M https://huggingface.co/ckpt/ControlNet-v1-1/raw/main/control_v11p_{c}15_seg_fp16.yaml -d /content/drive/MyDrive/ui-colab/ui/extensions/{c}-webui-controlnet/models -o control_v11p_{c}15_seg_fp16.yaml\n",
        "!aria2c --console-log-level=error -c -x 16 -s 16 -k 1M https://huggingface.co/ckpt/ControlNet-v1-1/raw/main/control_v11p_{c}15_softedge_fp16.yaml -d /content/drive/MyDrive/ui-colab/ui/extensions/{c}-webui-controlnet/models -o control_v11p_{c}15_softedge_fp16.yaml\n",
        "!aria2c --console-log-level=error -c -x 16 -s 16 -k 1M https://huggingface.co/ckpt/ControlNet-v1-1/raw/main/control_v11p_{c}15s2_lineart_anime_fp16.yaml -d /content/drive/MyDrive/ui-colab/ui/extensions/{c}-webui-controlnet/models -o control_v11p_{c}15s2_lineart_anime_fp16.yaml\n",
        "!aria2c --console-log-level=error -c -x 16 -s 16 -k 1M https://huggingface.co/ckpt/ControlNet-v1-1/raw/main/control_v11f1e_{c}15_tile_fp16.yaml -d /content/drive/MyDrive/ui-colab/ui/extensions/{c}-webui-controlnet/models -o control_v11f1e_{c}15_tile_fp16.yaml\n",
        "# !aria2c --console-log-level=error -c -x 16 -s 16 -k 1M https://huggingface.co/ckpt/ControlNet-v1-1/resolve/main/t2iadapter_style_{c}14v1.pth -d /content/drive/MyDrive/ui-colab/ui/extensions/{c}-webui-controlnet/models -o t2iadapter_style_{c}14v1.pth\n",
        "# !aria2c --console-log-level=error -c -x 16 -s 16 -k 1M https://huggingface.co/ckpt/ControlNet-v1-1/resolve/main/t2iadapter_sketch_{c}14v1.pth -d /content/drive/MyDrive/ui-colab/ui/extensions/{c}-webui-controlnet/models -o t2iadapter_sketch_{c}14v1.pth\n",
        "# !aria2c --console-log-level=error -c -x 16 -s 16 -k 1M https://huggingface.co/ckpt/ControlNet-v1-1/resolve/main/t2iadapter_seg_{c}14v1.pth -d /content/drive/MyDrive/ui-colab/ui/extensions/{c}-webui-controlnet/models -o t2iadapter_seg_{c}14v1.pth\n",
        "# !aria2c --console-log-level=error -c -x 16 -s 16 -k 1M https://huggingface.co/ckpt/ControlNet-v1-1/resolve/main/t2iadapter_openpose_{c}14v1.pth -d /content/drive/MyDrive/ui-colab/ui/extensions/{c}-webui-controlnet/models -o t2iadapter_openpose_{c}14v1.pth\n",
        "# !aria2c --console-log-level=error -c -x 16 -s 16 -k 1M https://huggingface.co/ckpt/ControlNet-v1-1/resolve/main/t2iadapter_keypose_{c}14v1.pth -d /content/drive/MyDrive/ui-colab/ui/extensions/{c}-webui-controlnet/models -o t2iadapter_keypose_{c}14v1.pth\n",
        "# !aria2c --console-log-level=error -c -x 16 -s 16 -k 1M https://huggingface.co/ckpt/ControlNet-v1-1/resolve/main/t2iadapter_depth_{c}14v1.pth -d /content/drive/MyDrive/ui-colab/ui/extensions/{c}-webui-controlnet/models -o t2iadapter_depth_{c}14v1.pth\n",
        "# !aria2c --console-log-level=error -c -x 16 -s 16 -k 1M https://huggingface.co/ckpt/ControlNet-v1-1/resolve/main/t2iadapter_color_{c}14v1.pth -d /content/drive/MyDrive/ui-colab/ui/extensions/{c}-webui-controlnet/models -o t2iadapter_color_{c}14v1.pth\n",
        "# !aria2c --console-log-level=error -c -x 16 -s 16 -k 1M https://huggingface.co/ckpt/ControlNet-v1-1/resolve/main/t2iadapter_canny_{c}14v1.pth -d /content/drive/MyDrive/ui-colab/ui/extensions/{c}-webui-controlnet/models -o t2iadapter_canny_{c}14v1.pth\n",
        "# !aria2c --console-log-level=error -c -x 16 -s 16 -k 1M https://huggingface.co/ckpt/ControlNet-v1-1/resolve/main/t2iadapter_canny_{c}15v2.pth -d /content/drive/MyDrive/ui-colab/ui/extensions/{c}-webui-controlnet/models -o t2iadapter_canny_{c}15v2.pth\n",
        "# !aria2c --console-log-level=error -c -x 16 -s 16 -k 1M https://huggingface.co/ckpt/ControlNet-v1-1/resolve/main/t2iadapter_depth_{c}15v2.pth -d /content/drive/MyDrive/ui-colab/ui/extensions/{c}-webui-controlnet/models -o t2iadapter_depth_{c}15v2.pth\n",
        "# !aria2c --console-log-level=error -c -x 16 -s 16 -k 1M https://huggingface.co/ckpt/ControlNet-v1-1/resolve/main/t2iadapter_sketch_{c}15v2.pth -d /content/drive/MyDrive/ui-colab/ui/extensions/{c}-webui-controlnet/models -o t2iadapter_sketch_{c}15v2.pth\n",
        "# !aria2c --console-log-level=error -c -x 16 -s 16 -k 1M https://huggingface.co/ckpt/ControlNet-v1-1/resolve/main/t2iadapter_zoedepth_{c}15v1.pth -d /content/drive/MyDrive/ui-colab/ui/extensions/{c}-webui-controlnet/models -o t2iadapter_zoedepth_{c}15v1.pth\n",
        "\n",
        "!aria2c --console-log-level=error -c -x 16 -s 16 -k 1M https://huggingface.co/ckpt/{c}15/resolve/main/v1-5-pruned-emaonly.ckpt -d /content/drive/MyDrive/ui-colab/ui/models/{b}-diffusion -o v1-5-pruned-emaonly.ckpt\n",
        "a=\"stable\"\n",
        "!sed -i -e 's/    start()/    #start()/g' /content/drive/MyDrive/ui-colab/ui/launch.py\n",
        "!sed -i -e 's/checkout {commithash}/checkout --force {commithash}/g' /content/drive/MyDrive/ui-colab/ui/launch.py\n",
        "\n",
        "%cd /content/drive/MyDrive/ui-colab/ui\n",
        "!python launch.py --skip-torch-cuda-test\n",
        "\n",
        "print(\"Installed\")"
      ],
      "metadata": {
        "id": "YjhWsI47WReJ"
      },
      "execution_count": null,
      "outputs": []
    },
    {
      "cell_type": "code",
      "source": [],
      "metadata": {
        "id": "7T7TUxnEkQv0"
      },
      "execution_count": null,
      "outputs": []
    },
    {
      "cell_type": "code",
      "source": [
        "#@title 开始运行\n",
        "a=\"stable\"\n",
        "b=\"Stable\"\n",
        "c=\"sd\"\n",
        "\n",
        "%cd /content\n",
        "from google.colab import drive\n",
        "drive.mount('/content/drive')\n",
        "import os\n",
        "\n",
        "%env PYTHONDONTWRITEBYTECODE=1\n",
        "%env TF_CPP_MIN_LOG_LEVEL=1\n",
        "\n",
        "!apt -y update -qq\n",
        "!wget https://github.com/camenduru/gperftools/releases/download/v1.0/libtcmalloc_minimal.so.4 -O /content/libtcmalloc_minimal.so.4\n",
        "%env LD_PRELOAD=/content/libtcmalloc_minimal.so.4\n",
        "\n",
        "!apt -y install -qq aria2 libcairo2-dev pkg-config python3-dev\n",
        "!apt -y install -qq unionfs-fuse\n",
        "!pip install -q torch==2.0.0+cu118 torchvision==0.15.1+cu118 torchaudio==2.0.1+cu118 torchtext==0.15.1 torchdata==0.6.0 --extra-index-url https://download.pytorch.org/whl/cu118 -U\n",
        "!pip install -q xformers==0.0.19 triton==2.0.0 -U\n",
        "\n",
        "!mkdir /content/fused-models\n",
        "!mkdir /content/models\n",
        "!mkdir /content/fused-lora\n",
        "!mkdir /content/lora\n",
        "!unionfs-fuse /content/drive/MyDrive/ui-colab/ui/models/{b}-diffusion=RW:/content/models=RW /content/fused-models\n",
        "!unionfs-fuse /content/drive/MyDrive/ui-colab/ui/extensions/{c}-webui-additional-networks/models/lora=RW:/content/drive/MyDrive/ui-colab/ui/models/Lora=RW:/content/lora=RW /content/fused-lora\n",
        "\n",
        "%cd /content/drive/MyDrive/ui-colab/ui\n",
        "\n",
        "!git reset --hard\n",
        "!git -C /content/drive/MyDrive/ui-colab/ui/repositories/{a}-diffusion-stability-ai reset --hard\n",
        "\n",
        "\n",
        "!git -C /content/drive/MyDrive/ui-colab/ui/extensions/{c}-webui-tunnels reset --hard\n",
        "!git -C /content/drive/MyDrive/ui-colab/ui/extensions/{c}-webui-tunnels pull\n",
        "\n",
        "\n",
        "!sed -i -e '''/    prepare_environment()/a\\    os.system\\(f\\\"\"\"sed -i -e ''\\\"s/dict()))/dict())).cuda()/g\\\"'' /content/drive/MyDrive/ui-colab/ui/repositories/stable-diffusion-stability-ai/ldm/util.py\"\"\")''' /content/drive/MyDrive/ui-colab/ui/launch.py\n",
        "!sed -i -e 's/checkout {commithash}/checkout --force {commithash}/g' /content/drive/MyDrive/ui-colab/ui/launch.py\n",
        "\n",
        "if not os.path.exists(f\"/content/drive/MyDrive/ui-colab/ui/models/CLIP\"):\n",
        "  os.mkdir(f\"/content/drive/MyDrive/ui-colab/ui/models/CLIP\")\n",
        "!aria2c --console-log-level=error -c -x 16 -s 16 -k 1M https://openaipublic.azureedge.net/clip/models/b8cca3fd41ae0c99ba7e8951adf17d267cdb84cd88be6f7c2e0eca1737a03836/ViT-L-14.pt -d /content/drive/MyDrive/ui-colab/ui/models/CLIP -o ViT-L-14.pt\n",
        "\n",
        "!python launch.py --listen --xformers --enable-insecure-extension-access --theme dark --gradio-queue --clip-models-path /content/drive/MyDrive/ui-colab/ui/models/CLIP --ckpt-dir /content/fused-models --lora-dir /content/fused-lora --multiple"
      ],
      "metadata": {
        "id": "uXQ1WgBCkCpw",
        "cellView": "form"
      },
      "execution_count": null,
      "outputs": []
    },
    {
      "cell_type": "code",
      "source": [
        "#@title 仅运行\n",
        "\n",
        "a=\"stable\"\n",
        "b=\"Stable\"\n",
        "c=\"sd\"\n",
        "%cd /content/drive/MyDrive/ui-colab/ui\n",
        "!python launch.py --listen --xformers --enable-insecure-extension-access --theme dark --gradio-queue --clip-models-path /content/drive/MyDrive/ui-colab/ui/models/CLIP --ckpt-dir /content/fused-models --lora-dir /content/fused-lora --multiple"
      ],
      "metadata": {
        "id": "mYUKB2FIk-Du"
      },
      "execution_count": null,
      "outputs": []
    },
    {
      "cell_type": "code",
      "source": [
        "\n",
        "#@title 查看GPU和VRAM可用信息\n",
        "\n",
        "!nvidia-smi --query-gpu=name,memory.total,memory.free --format=csv,noheader"
      ],
      "metadata": {
        "id": "aO2nVFIsBMn7"
      },
      "execution_count": null,
      "outputs": []
    },
    {
      "cell_type": "markdown",
      "source": [
        "# 模型下载"
      ],
      "metadata": {
        "id": "wjvS2oV3eozH"
      }
    },
    {
      "cell_type": "code",
      "source": [
        "\n",
        "#@title Checkpoints/safetensors等大模型下载\n",
        "a=\"stable\"\n",
        "b=\"Stable\"\n",
        "url = \"https://civitai.com/api/download/models/128713\" #@param {type:\"string\"}\n",
        "#@ markdown - _Remote source url._\n",
        "destination_folder = \"/content/drive/MyDrive/ui-colab/ui/models/\" + b+\"-diffusion\" #@ param {type:\"string\"}\n",
        "#@ markdown - _Find folder in gdrive on the left and right-click to copy the path._\n",
        "filename = \"DreamShaper.safetensors\" #@param {type:\"string\"}\n",
        "#@ markdown - _Filename with extension._\n",
        "\n",
        "target = f'{destination_folder}/{filename}'\n",
        "\n",
        "!gdown -O $target \"$url\"\n"
      ],
      "metadata": {
        "id": "kiuK1rJ5aeOl"
      },
      "execution_count": null,
      "outputs": []
    },
    {
      "cell_type": "code",
      "source": [
        "#@title Lora模型下载\n",
        "a=\"{a}\"\n",
        "url = \"https://civitai.com/api/download/models/6433\" #@param {type:\"string\"}\n",
        "#@ markdown - _Remote source url._\n",
        "destination_folder = \"/content/drive/MyDrive/ui-colab/ui/models/Lora\" #@ param {type:\"string\"}\n",
        "#@ markdown - _Find folder in gdrive on the left and right-click to copy the path._\n",
        "filename = \"Eye_LoRa.safetensors\" #@param {type:\"string\"}\n",
        "#@ markdown - _Filename with extension._\n",
        "\n",
        "target = f'{destination_folder}/{filename}'\n",
        "\n",
        "!gdown --fuzzy -O $target \"$url\""
      ],
      "metadata": {
        "id": "Jvnx3qoaa9gb"
      },
      "execution_count": null,
      "outputs": []
    },
    {
      "cell_type": "code",
      "source": [
        "#@title embeddings模型下载\n",
        "a=\"{a}\"\n",
        "url = \"https://huggingface.co/datasets/g{c}f/EasyNegative/resolve/main/EasyNegative.safetensors\" #@param {type:\"string\"}\n",
        "#@ markdown - _Remote source url._\n",
        "destination_folder = \"/content/drive/MyDrive/ui-colab/ui/embeddings\" #@ param {type:\"string\"}\n",
        "#@ markdown - _Find folder in gdrive on the left and right-click to copy the path._\n",
        "filename = \"EasyNegative.safetensors\" #@param {type:\"string\"}\n",
        "#@ markdown - _Filename with extension._\n",
        "\n",
        "target = f'{destination_folder}/{filename}'\n",
        "\n",
        "!gdown --fuzzy -O $target \"$url\""
      ],
      "metadata": {
        "id": "h_gQJGj8bLAr"
      },
      "execution_count": null,
      "outputs": []
    },
    {
      "cell_type": "code",
      "source": [
        "\n",
        "#@title VAE下载\n",
        "a=\"{a}\"\n",
        "url = \"https://huggingface.co/stabilityai/{c}-vae-ft-mse-original/resolve/main/vae-ft-mse-840000-ema-pruned.safetensors\" #@param {type:\"string\"}\n",
        "#@ markdown - _Remote source url._\n",
        "destination_folder = \"/content/drive/MyDrive/ui-colab/ui/models/VAE\" #@ param {type:\"string\"}\n",
        "#@ markdown - _Find folder in gdrive on the left and right-click to copy the path._\n",
        "filename = \"vae-ft-mse-840000-ema-pruned.safetensors\" #@param {type:\"string\"}\n",
        "#@ markdown - _Filename with extension._\n",
        "\n",
        "target = f'{destination_folder}/{filename}'\n",
        "\n",
        "!gdown --fuzzy -O $target \"$url\""
      ],
      "metadata": {
        "id": "Q9pSXyDYbVMn"
      },
      "execution_count": null,
      "outputs": []
    },
    {
      "cell_type": "code",
      "source": [
        "#@title 自定义下载\n",
        "url = \"https://huggingface.co/stabilityai/{c}-vae-ft-mse-original/resolve/main/vae-ft-mse-840000-ema-pruned.safetensors\" #@param {type:\"string\"}\n",
        "#@markdown - _下载链接._\n",
        "destination_folder = \"/content/models\" #@param {type:\"string\"}\n",
        "#@markdown - _在google云盘中找到想要下载的目标路径右键复制地址._\n",
        "filename = \"vae-ft-mse-840000-ema-pruned.safetensors\" #@param {type:\"string\"}\n",
        "#@markdown - _保存的文件名._\n",
        "\n",
        "target = f'{destination}/{filename}'\n",
        "\n",
        "!gdown --fuzzy -O $target \"$url\""
      ],
      "metadata": {
        "id": "xxITLG1PbpCD"
      },
      "execution_count": null,
      "outputs": []
    }
  ],
  "metadata": {
    "accelerator": "GPU",
    "colab": {
      "private_outputs": true,
      "provenance": [],
      "gpuType": "T4",
      "include_colab_link": true
    },
    "kernelspec": {
      "display_name": "Python 3",
      "name": "python3"
    },
    "language_info": {
      "name": "python",
      "version": "3.10.8"
    },
    "vscode": {
      "interpreter": {
        "hash": "e593ac106456af50ce7af38f9671c411b49d6cd90f9b885e167f0f594e09038c"
      }
    }
  },
  "nbformat": 4,
  "nbformat_minor": 0
}